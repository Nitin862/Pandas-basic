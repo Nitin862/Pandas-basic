{
 "cells": [
  {
   "cell_type": "code",
   "execution_count": 1,
   "id": "40c320e4-6245-4cb3-8e57-78aa6f62fd47",
   "metadata": {},
   "outputs": [
    {
     "data": {
      "text/plain": [
       "'Consider following code to answer further questions:\\nimport pandas as pd\\ncourse_name = [‘Data Science’, ‘Machine Learning’, ‘Big Data’, ‘Data Engineer’]\\nduration = [2,3,6,4]\\ndf = pd.DataFrame(data = {‘course_name’ : course_name, ‘duration’ : duration})\\nQ1. Write a code to print the data present in the second row of the dataframe, df.'"
      ]
     },
     "execution_count": 1,
     "metadata": {},
     "output_type": "execute_result"
    }
   ],
   "source": [
    "'''Consider following code to answer further questions:\n",
    "import pandas as pd\n",
    "course_name = [‘Data Science’, ‘Machine Learning’, ‘Big Data’, ‘Data Engineer’]\n",
    "duration = [2,3,6,4]\n",
    "df = pd.DataFrame(data = {‘course_name’ : course_name, ‘duration’ : duration})\n",
    "Q1. Write a code to print the data present in the second row of the dataframe, df.'''"
   ]
  },
  {
   "cell_type": "code",
   "execution_count": 77,
   "id": "3cc2c8e1-5410-4c0b-9c3c-e3b146221521",
   "metadata": {},
   "outputs": [],
   "source": [
    "import pandas as pd\n",
    "\n",
    "course_name = [\"Data Science\",\"Machine Learning\", \"Big Data\", \"Data Engineer\"]\n",
    "duration = [2,3,6,4]\n",
    "df = pd.DataFrame(data = {\"course_name\" :[\"Data Science\",\"Machine Learning\", \"Big Data\", \"Data Engineer\"], \"duration\" : [2,3,6,4]})"
   ]
  },
  {
   "cell_type": "code",
   "execution_count": 78,
   "id": "163e6941-4002-42f8-be3f-60b4d1a098b6",
   "metadata": {},
   "outputs": [
    {
     "data": {
      "text/html": [
       "<div>\n",
       "<style scoped>\n",
       "    .dataframe tbody tr th:only-of-type {\n",
       "        vertical-align: middle;\n",
       "    }\n",
       "\n",
       "    .dataframe tbody tr th {\n",
       "        vertical-align: top;\n",
       "    }\n",
       "\n",
       "    .dataframe thead th {\n",
       "        text-align: right;\n",
       "    }\n",
       "</style>\n",
       "<table border=\"1\" class=\"dataframe\">\n",
       "  <thead>\n",
       "    <tr style=\"text-align: right;\">\n",
       "      <th></th>\n",
       "      <th>course_name</th>\n",
       "      <th>duration</th>\n",
       "    </tr>\n",
       "  </thead>\n",
       "  <tbody>\n",
       "    <tr>\n",
       "      <th>0</th>\n",
       "      <td>Data Science</td>\n",
       "      <td>2</td>\n",
       "    </tr>\n",
       "    <tr>\n",
       "      <th>1</th>\n",
       "      <td>Machine Learning</td>\n",
       "      <td>3</td>\n",
       "    </tr>\n",
       "    <tr>\n",
       "      <th>2</th>\n",
       "      <td>Big Data</td>\n",
       "      <td>6</td>\n",
       "    </tr>\n",
       "    <tr>\n",
       "      <th>3</th>\n",
       "      <td>Data Engineer</td>\n",
       "      <td>4</td>\n",
       "    </tr>\n",
       "  </tbody>\n",
       "</table>\n",
       "</div>"
      ],
      "text/plain": [
       "        course_name  duration\n",
       "0      Data Science         2\n",
       "1  Machine Learning         3\n",
       "2          Big Data         6\n",
       "3     Data Engineer         4"
      ]
     },
     "execution_count": 78,
     "metadata": {},
     "output_type": "execute_result"
    }
   ],
   "source": [
    "df"
   ]
  },
  {
   "cell_type": "code",
   "execution_count": 79,
   "id": "ff424cc0-badb-4e62-8a29-890977606cf1",
   "metadata": {},
   "outputs": [
    {
     "data": {
      "text/plain": [
       "course_name    Machine Learning\n",
       "duration                      3\n",
       "Name: 1, dtype: object"
      ]
     },
     "execution_count": 79,
     "metadata": {},
     "output_type": "execute_result"
    }
   ],
   "source": [
    "df.iloc[1]"
   ]
  },
  {
   "cell_type": "code",
   "execution_count": 80,
   "id": "b21a5c1f-2ea3-47aa-a891-4eb5af03c96a",
   "metadata": {},
   "outputs": [
    {
     "data": {
      "text/plain": [
       "course_name    Machine Learning\n",
       "duration                      3\n",
       "Name: 1, dtype: object"
      ]
     },
     "execution_count": 80,
     "metadata": {},
     "output_type": "execute_result"
    }
   ],
   "source": [
    "df.loc[1]"
   ]
  },
  {
   "cell_type": "code",
   "execution_count": 81,
   "id": "8b3c69b1-4aeb-4f47-930f-9b04338f26ad",
   "metadata": {},
   "outputs": [
    {
     "data": {
      "text/plain": [
       "course_name    Machine Learning\n",
       "duration                      3\n",
       "Name: 1, dtype: object"
      ]
     },
     "execution_count": 81,
     "metadata": {},
     "output_type": "execute_result"
    }
   ],
   "source": [
    "df.loc[1,['course_name','duration']]"
   ]
  },
  {
   "cell_type": "code",
   "execution_count": 82,
   "id": "6178ca74-cf99-46de-9b40-ce57c65af575",
   "metadata": {},
   "outputs": [
    {
     "data": {
      "text/plain": [
       "'Q2. What is the difference between the functions loc and iloc in pandas.DataFrame?'"
      ]
     },
     "execution_count": 82,
     "metadata": {},
     "output_type": "execute_result"
    }
   ],
   "source": [
    "'''Q2. What is the difference between the functions loc and iloc in pandas.DataFrame?'''"
   ]
  },
  {
   "cell_type": "code",
   "execution_count": 83,
   "id": "eca2f5a0-5122-4708-be48-db1e5dcd75db",
   "metadata": {},
   "outputs": [
    {
     "data": {
      "text/plain": [
       "'iloc takes inbuilt index of python dataframe while loc takes named data of the python data frame'"
      ]
     },
     "execution_count": 83,
     "metadata": {},
     "output_type": "execute_result"
    }
   ],
   "source": [
    "'''iloc takes inbuilt index of python dataframe while loc takes named data of the python data frame'''"
   ]
  },
  {
   "cell_type": "code",
   "execution_count": 84,
   "id": "199123dd-3485-448b-9559-082b34503057",
   "metadata": {},
   "outputs": [
    {
     "data": {
      "text/plain": [
       "\"Q3. Reindex the given dataframe using a variable, reindex = [3,0,1,2] and store it in the variable, new_df\\nthen find the output for both new_df.loc[2] and new_df.iloc[2].\\nDid you observe any difference in both the outputs? If so then explain it.\\nConsider the below code to answer further questions:\\nimport pandas as pd\\nimport numpy as np\\ncolumns = ['column_1', 'column_2', 'column_3', 'column_4', 'column_5', 'column_6']\\nindices = [1,2,3,4,5,6]\\n#Creating a dataframe:\\ndf1 = pd.DataFrame(np.random.rand(6,6), columns = columns, index = indices)\""
      ]
     },
     "execution_count": 84,
     "metadata": {},
     "output_type": "execute_result"
    }
   ],
   "source": [
    "'''Q3. Reindex the given dataframe using a variable, reindex = [3,0,1,2] and store it in the variable, new_df\n",
    "then find the output for both new_df.loc[2] and new_df.iloc[2].\n",
    "Did you observe any difference in both the outputs? If so then explain it.\n",
    "Consider the below code to answer further questions:\n",
    "import pandas as pd\n",
    "import numpy as np\n",
    "columns = ['column_1', 'column_2', 'column_3', 'column_4', 'column_5', 'column_6']\n",
    "indices = [1,2,3,4,5,6]\n",
    "#Creating a dataframe:\n",
    "df1 = pd.DataFrame(np.random.rand(6,6), columns = columns, index = indices)'''"
   ]
  },
  {
   "cell_type": "code",
   "execution_count": 85,
   "id": "315c0566-123c-4d52-b231-c86d3895474a",
   "metadata": {},
   "outputs": [],
   "source": [
    "import pandas as pd\n",
    "import numpy as np\n",
    "columns = ['column_1', 'column_2', 'column_3', 'column_4', 'column_5', 'column_6']\n",
    "indices = [1,2,3,4,5,6]\n",
    "#Creating a dataframe:\n",
    "df1 = pd.DataFrame(np.random.rand(6,6), columns = columns, index = indices)"
   ]
  },
  {
   "cell_type": "code",
   "execution_count": null,
   "id": "6a2b948b-85aa-422a-b269-c6f4aeda69cf",
   "metadata": {},
   "outputs": [],
   "source": []
  },
  {
   "cell_type": "code",
   "execution_count": null,
   "id": "088d989f-6738-4006-ad17-cc31ee092df5",
   "metadata": {},
   "outputs": [],
   "source": []
  },
  {
   "cell_type": "code",
   "execution_count": 86,
   "id": "380b5200-f8fa-4ee7-b6d5-80b5c4968ee1",
   "metadata": {},
   "outputs": [
    {
     "data": {
      "text/plain": [
       "'Q4. Write a code to find the following statistical measurements for the above dataframe df1:\\n(i) mean of each and every column present in the dataframe.\\n(ii) standard deviation of column, ‘column_2’'"
      ]
     },
     "execution_count": 86,
     "metadata": {},
     "output_type": "execute_result"
    }
   ],
   "source": [
    "'''Q4. Write a code to find the following statistical measurements for the above dataframe df1:\n",
    "(i) mean of each and every column present in the dataframe.\n",
    "(ii) standard deviation of column, ‘column_2’'''"
   ]
  },
  {
   "cell_type": "code",
   "execution_count": 87,
   "id": "b467cd69-7448-4fbc-94b7-2a8e13a62c61",
   "metadata": {},
   "outputs": [
    {
     "data": {
      "text/plain": [
       "column_1    0.460475\n",
       "column_2    0.468176\n",
       "column_3    0.686348\n",
       "column_4    0.325014\n",
       "column_5    0.385828\n",
       "column_6    0.525528\n",
       "dtype: float64"
      ]
     },
     "execution_count": 87,
     "metadata": {},
     "output_type": "execute_result"
    }
   ],
   "source": [
    "df1.mean()"
   ]
  },
  {
   "cell_type": "code",
   "execution_count": 88,
   "id": "be13fd3e-c41a-4c33-aaad-0f9c816d7e30",
   "metadata": {},
   "outputs": [
    {
     "data": {
      "text/html": [
       "<div>\n",
       "<style scoped>\n",
       "    .dataframe tbody tr th:only-of-type {\n",
       "        vertical-align: middle;\n",
       "    }\n",
       "\n",
       "    .dataframe tbody tr th {\n",
       "        vertical-align: top;\n",
       "    }\n",
       "\n",
       "    .dataframe thead th {\n",
       "        text-align: right;\n",
       "    }\n",
       "</style>\n",
       "<table border=\"1\" class=\"dataframe\">\n",
       "  <thead>\n",
       "    <tr style=\"text-align: right;\">\n",
       "      <th></th>\n",
       "      <th>column_1</th>\n",
       "      <th>column_2</th>\n",
       "      <th>column_3</th>\n",
       "      <th>column_4</th>\n",
       "      <th>column_5</th>\n",
       "      <th>column_6</th>\n",
       "    </tr>\n",
       "  </thead>\n",
       "  <tbody>\n",
       "    <tr>\n",
       "      <th>1</th>\n",
       "      <td>0.012590</td>\n",
       "      <td>0.503730</td>\n",
       "      <td>0.782460</td>\n",
       "      <td>0.059941</td>\n",
       "      <td>0.581435</td>\n",
       "      <td>0.112221</td>\n",
       "    </tr>\n",
       "    <tr>\n",
       "      <th>2</th>\n",
       "      <td>0.758603</td>\n",
       "      <td>0.261909</td>\n",
       "      <td>0.772853</td>\n",
       "      <td>0.559766</td>\n",
       "      <td>0.605415</td>\n",
       "      <td>0.502070</td>\n",
       "    </tr>\n",
       "    <tr>\n",
       "      <th>3</th>\n",
       "      <td>0.227006</td>\n",
       "      <td>0.536784</td>\n",
       "      <td>0.918617</td>\n",
       "      <td>0.158470</td>\n",
       "      <td>0.752899</td>\n",
       "      <td>0.977897</td>\n",
       "    </tr>\n",
       "    <tr>\n",
       "      <th>4</th>\n",
       "      <td>0.835262</td>\n",
       "      <td>0.643295</td>\n",
       "      <td>0.064358</td>\n",
       "      <td>0.570479</td>\n",
       "      <td>0.072094</td>\n",
       "      <td>0.578527</td>\n",
       "    </tr>\n",
       "    <tr>\n",
       "      <th>5</th>\n",
       "      <td>0.519033</td>\n",
       "      <td>0.472945</td>\n",
       "      <td>0.987606</td>\n",
       "      <td>0.076480</td>\n",
       "      <td>0.092705</td>\n",
       "      <td>0.110532</td>\n",
       "    </tr>\n",
       "    <tr>\n",
       "      <th>6</th>\n",
       "      <td>0.410357</td>\n",
       "      <td>0.390390</td>\n",
       "      <td>0.592192</td>\n",
       "      <td>0.524947</td>\n",
       "      <td>0.210423</td>\n",
       "      <td>0.871920</td>\n",
       "    </tr>\n",
       "  </tbody>\n",
       "</table>\n",
       "</div>"
      ],
      "text/plain": [
       "   column_1  column_2  column_3  column_4  column_5  column_6\n",
       "1  0.012590  0.503730  0.782460  0.059941  0.581435  0.112221\n",
       "2  0.758603  0.261909  0.772853  0.559766  0.605415  0.502070\n",
       "3  0.227006  0.536784  0.918617  0.158470  0.752899  0.977897\n",
       "4  0.835262  0.643295  0.064358  0.570479  0.072094  0.578527\n",
       "5  0.519033  0.472945  0.987606  0.076480  0.092705  0.110532\n",
       "6  0.410357  0.390390  0.592192  0.524947  0.210423  0.871920"
      ]
     },
     "execution_count": 88,
     "metadata": {},
     "output_type": "execute_result"
    }
   ],
   "source": [
    "df1"
   ]
  },
  {
   "cell_type": "code",
   "execution_count": 89,
   "id": "b871f90a-d094-4825-986b-626751125153",
   "metadata": {},
   "outputs": [
    {
     "data": {
      "text/plain": [
       "0.13058144378317646"
      ]
     },
     "execution_count": 89,
     "metadata": {},
     "output_type": "execute_result"
    }
   ],
   "source": [
    "df1['column_2'].std()"
   ]
  },
  {
   "cell_type": "code",
   "execution_count": 90,
   "id": "374126de-1eb2-474c-90f4-f792a7628bbf",
   "metadata": {},
   "outputs": [
    {
     "data": {
      "text/plain": [
       "'Q5. Replace the data present in the second row of column, ‘column_2’ by a string variable then find the\\nmean of column, column_2.\\nIf you are getting errors in executing it then explain why.'"
      ]
     },
     "execution_count": 90,
     "metadata": {},
     "output_type": "execute_result"
    }
   ],
   "source": [
    "'''Q5. Replace the data present in the second row of column, ‘column_2’ by a string variable then find the\n",
    "mean of column, column_2.\n",
    "If you are getting errors in executing it then explain why.'''"
   ]
  },
  {
   "cell_type": "code",
   "execution_count": 91,
   "id": "005ad17d-62b6-4579-8a00-8d35dc4000a8",
   "metadata": {},
   "outputs": [],
   "source": [
    "df1['column_2'].replace({0.673299:'nitin',0.768025:'Sinha',0.029452:'pwskils',0.254252:'Datascience',0.730223:'python',0.215223\t:'sql'\t},inplace=True)"
   ]
  },
  {
   "cell_type": "code",
   "execution_count": 92,
   "id": "ed00b07b-de10-4030-92fc-65555d00edec",
   "metadata": {},
   "outputs": [
    {
     "data": {
      "text/html": [
       "<div>\n",
       "<style scoped>\n",
       "    .dataframe tbody tr th:only-of-type {\n",
       "        vertical-align: middle;\n",
       "    }\n",
       "\n",
       "    .dataframe tbody tr th {\n",
       "        vertical-align: top;\n",
       "    }\n",
       "\n",
       "    .dataframe thead th {\n",
       "        text-align: right;\n",
       "    }\n",
       "</style>\n",
       "<table border=\"1\" class=\"dataframe\">\n",
       "  <thead>\n",
       "    <tr style=\"text-align: right;\">\n",
       "      <th></th>\n",
       "      <th>column_1</th>\n",
       "      <th>column_2</th>\n",
       "      <th>column_3</th>\n",
       "      <th>column_4</th>\n",
       "      <th>column_5</th>\n",
       "      <th>column_6</th>\n",
       "    </tr>\n",
       "  </thead>\n",
       "  <tbody>\n",
       "    <tr>\n",
       "      <th>1</th>\n",
       "      <td>0.012590</td>\n",
       "      <td>0.503730</td>\n",
       "      <td>0.782460</td>\n",
       "      <td>0.059941</td>\n",
       "      <td>0.581435</td>\n",
       "      <td>0.112221</td>\n",
       "    </tr>\n",
       "    <tr>\n",
       "      <th>2</th>\n",
       "      <td>0.758603</td>\n",
       "      <td>0.261909</td>\n",
       "      <td>0.772853</td>\n",
       "      <td>0.559766</td>\n",
       "      <td>0.605415</td>\n",
       "      <td>0.502070</td>\n",
       "    </tr>\n",
       "    <tr>\n",
       "      <th>3</th>\n",
       "      <td>0.227006</td>\n",
       "      <td>0.536784</td>\n",
       "      <td>0.918617</td>\n",
       "      <td>0.158470</td>\n",
       "      <td>0.752899</td>\n",
       "      <td>0.977897</td>\n",
       "    </tr>\n",
       "    <tr>\n",
       "      <th>4</th>\n",
       "      <td>0.835262</td>\n",
       "      <td>0.643295</td>\n",
       "      <td>0.064358</td>\n",
       "      <td>0.570479</td>\n",
       "      <td>0.072094</td>\n",
       "      <td>0.578527</td>\n",
       "    </tr>\n",
       "    <tr>\n",
       "      <th>5</th>\n",
       "      <td>0.519033</td>\n",
       "      <td>0.472945</td>\n",
       "      <td>0.987606</td>\n",
       "      <td>0.076480</td>\n",
       "      <td>0.092705</td>\n",
       "      <td>0.110532</td>\n",
       "    </tr>\n",
       "    <tr>\n",
       "      <th>6</th>\n",
       "      <td>0.410357</td>\n",
       "      <td>0.390390</td>\n",
       "      <td>0.592192</td>\n",
       "      <td>0.524947</td>\n",
       "      <td>0.210423</td>\n",
       "      <td>0.871920</td>\n",
       "    </tr>\n",
       "  </tbody>\n",
       "</table>\n",
       "</div>"
      ],
      "text/plain": [
       "   column_1  column_2  column_3  column_4  column_5  column_6\n",
       "1  0.012590  0.503730  0.782460  0.059941  0.581435  0.112221\n",
       "2  0.758603  0.261909  0.772853  0.559766  0.605415  0.502070\n",
       "3  0.227006  0.536784  0.918617  0.158470  0.752899  0.977897\n",
       "4  0.835262  0.643295  0.064358  0.570479  0.072094  0.578527\n",
       "5  0.519033  0.472945  0.987606  0.076480  0.092705  0.110532\n",
       "6  0.410357  0.390390  0.592192  0.524947  0.210423  0.871920"
      ]
     },
     "execution_count": 92,
     "metadata": {},
     "output_type": "execute_result"
    }
   ],
   "source": [
    "df1"
   ]
  },
  {
   "cell_type": "code",
   "execution_count": 93,
   "id": "625a7ebb-8593-4af6-a6cb-fb3ea824d8ae",
   "metadata": {},
   "outputs": [
    {
     "ename": "KeyError",
     "evalue": "'coloumn_2'",
     "output_type": "error",
     "traceback": [
      "\u001b[0;31m---------------------------------------------------------------------------\u001b[0m",
      "\u001b[0;31mKeyError\u001b[0m                                  Traceback (most recent call last)",
      "File \u001b[0;32m/opt/conda/lib/python3.10/site-packages/pandas/core/indexes/base.py:3803\u001b[0m, in \u001b[0;36mIndex.get_loc\u001b[0;34m(self, key, method, tolerance)\u001b[0m\n\u001b[1;32m   3802\u001b[0m \u001b[38;5;28;01mtry\u001b[39;00m:\n\u001b[0;32m-> 3803\u001b[0m     \u001b[38;5;28;01mreturn\u001b[39;00m \u001b[38;5;28;43mself\u001b[39;49m\u001b[38;5;241;43m.\u001b[39;49m\u001b[43m_engine\u001b[49m\u001b[38;5;241;43m.\u001b[39;49m\u001b[43mget_loc\u001b[49m\u001b[43m(\u001b[49m\u001b[43mcasted_key\u001b[49m\u001b[43m)\u001b[49m\n\u001b[1;32m   3804\u001b[0m \u001b[38;5;28;01mexcept\u001b[39;00m \u001b[38;5;167;01mKeyError\u001b[39;00m \u001b[38;5;28;01mas\u001b[39;00m err:\n",
      "File \u001b[0;32m/opt/conda/lib/python3.10/site-packages/pandas/_libs/index.pyx:138\u001b[0m, in \u001b[0;36mpandas._libs.index.IndexEngine.get_loc\u001b[0;34m()\u001b[0m\n",
      "File \u001b[0;32m/opt/conda/lib/python3.10/site-packages/pandas/_libs/index.pyx:165\u001b[0m, in \u001b[0;36mpandas._libs.index.IndexEngine.get_loc\u001b[0;34m()\u001b[0m\n",
      "File \u001b[0;32mpandas/_libs/hashtable_class_helper.pxi:5745\u001b[0m, in \u001b[0;36mpandas._libs.hashtable.PyObjectHashTable.get_item\u001b[0;34m()\u001b[0m\n",
      "File \u001b[0;32mpandas/_libs/hashtable_class_helper.pxi:5753\u001b[0m, in \u001b[0;36mpandas._libs.hashtable.PyObjectHashTable.get_item\u001b[0;34m()\u001b[0m\n",
      "\u001b[0;31mKeyError\u001b[0m: 'coloumn_2'",
      "\nThe above exception was the direct cause of the following exception:\n",
      "\u001b[0;31mKeyError\u001b[0m                                  Traceback (most recent call last)",
      "Cell \u001b[0;32mIn[93], line 1\u001b[0m\n\u001b[0;32m----> 1\u001b[0m df1[\u001b[38;5;124m'\u001b[39m\u001b[38;5;124mcoloumn_2\u001b[39m\u001b[38;5;124m'\u001b[39m]\u001b[38;5;241m=\u001b[39m\u001b[43mdf\u001b[49m\u001b[43m[\u001b[49m\u001b[38;5;124;43m'\u001b[39;49m\u001b[38;5;124;43mcoloumn_2\u001b[39;49m\u001b[38;5;124;43m'\u001b[39;49m\u001b[43m]\u001b[49m\u001b[38;5;241m.\u001b[39mreplace(\u001b[38;5;124m'\u001b[39m\u001b[38;5;124mnitin\u001b[39m\u001b[38;5;124m'\u001b[39m,\u001b[38;5;124m'\u001b[39m\u001b[38;5;124mSinha\u001b[39m\u001b[38;5;124m'\u001b[39m,\u001b[38;5;124m'\u001b[39m\u001b[38;5;124mpwskils\u001b[39m\u001b[38;5;124m'\u001b[39m,\u001b[38;5;124m'\u001b[39m\u001b[38;5;124mDatascience\u001b[39m\u001b[38;5;124m'\u001b[39m,\u001b[38;5;124m'\u001b[39m\u001b[38;5;124mpython\u001b[39m\u001b[38;5;124m'\u001b[39m,\u001b[38;5;124m'\u001b[39m\u001b[38;5;124msql\u001b[39m\u001b[38;5;124m'\u001b[39m\t)\n",
      "File \u001b[0;32m/opt/conda/lib/python3.10/site-packages/pandas/core/frame.py:3805\u001b[0m, in \u001b[0;36mDataFrame.__getitem__\u001b[0;34m(self, key)\u001b[0m\n\u001b[1;32m   3803\u001b[0m \u001b[38;5;28;01mif\u001b[39;00m \u001b[38;5;28mself\u001b[39m\u001b[38;5;241m.\u001b[39mcolumns\u001b[38;5;241m.\u001b[39mnlevels \u001b[38;5;241m>\u001b[39m \u001b[38;5;241m1\u001b[39m:\n\u001b[1;32m   3804\u001b[0m     \u001b[38;5;28;01mreturn\u001b[39;00m \u001b[38;5;28mself\u001b[39m\u001b[38;5;241m.\u001b[39m_getitem_multilevel(key)\n\u001b[0;32m-> 3805\u001b[0m indexer \u001b[38;5;241m=\u001b[39m \u001b[38;5;28;43mself\u001b[39;49m\u001b[38;5;241;43m.\u001b[39;49m\u001b[43mcolumns\u001b[49m\u001b[38;5;241;43m.\u001b[39;49m\u001b[43mget_loc\u001b[49m\u001b[43m(\u001b[49m\u001b[43mkey\u001b[49m\u001b[43m)\u001b[49m\n\u001b[1;32m   3806\u001b[0m \u001b[38;5;28;01mif\u001b[39;00m is_integer(indexer):\n\u001b[1;32m   3807\u001b[0m     indexer \u001b[38;5;241m=\u001b[39m [indexer]\n",
      "File \u001b[0;32m/opt/conda/lib/python3.10/site-packages/pandas/core/indexes/base.py:3805\u001b[0m, in \u001b[0;36mIndex.get_loc\u001b[0;34m(self, key, method, tolerance)\u001b[0m\n\u001b[1;32m   3803\u001b[0m     \u001b[38;5;28;01mreturn\u001b[39;00m \u001b[38;5;28mself\u001b[39m\u001b[38;5;241m.\u001b[39m_engine\u001b[38;5;241m.\u001b[39mget_loc(casted_key)\n\u001b[1;32m   3804\u001b[0m \u001b[38;5;28;01mexcept\u001b[39;00m \u001b[38;5;167;01mKeyError\u001b[39;00m \u001b[38;5;28;01mas\u001b[39;00m err:\n\u001b[0;32m-> 3805\u001b[0m     \u001b[38;5;28;01mraise\u001b[39;00m \u001b[38;5;167;01mKeyError\u001b[39;00m(key) \u001b[38;5;28;01mfrom\u001b[39;00m \u001b[38;5;21;01merr\u001b[39;00m\n\u001b[1;32m   3806\u001b[0m \u001b[38;5;28;01mexcept\u001b[39;00m \u001b[38;5;167;01mTypeError\u001b[39;00m:\n\u001b[1;32m   3807\u001b[0m     \u001b[38;5;66;03m# If we have a listlike key, _check_indexing_error will raise\u001b[39;00m\n\u001b[1;32m   3808\u001b[0m     \u001b[38;5;66;03m#  InvalidIndexError. Otherwise we fall through and re-raise\u001b[39;00m\n\u001b[1;32m   3809\u001b[0m     \u001b[38;5;66;03m#  the TypeError.\u001b[39;00m\n\u001b[1;32m   3810\u001b[0m     \u001b[38;5;28mself\u001b[39m\u001b[38;5;241m.\u001b[39m_check_indexing_error(key)\n",
      "\u001b[0;31mKeyError\u001b[0m: 'coloumn_2'"
     ]
    }
   ],
   "source": [
    "df1['coloumn_2']=df['coloumn_2'].replace('nitin','Sinha','pwskils','Datascience','python','sql'\t)"
   ]
  },
  {
   "cell_type": "code",
   "execution_count": 94,
   "id": "5ef60261-6b94-4501-8665-7e80209ebf59",
   "metadata": {},
   "outputs": [
    {
     "data": {
      "text/plain": [
       "'Q6. What do you understand about the windows function in pandas and list the types of windows\\nfunctions?'"
      ]
     },
     "execution_count": 94,
     "metadata": {},
     "output_type": "execute_result"
    }
   ],
   "source": [
    "'''Q6. What do you understand about the windows function in pandas and list the types of windows\n",
    "functions?'''"
   ]
  },
  {
   "cell_type": "code",
   "execution_count": 95,
   "id": "a0abdef1-2419-4b55-b8bb-8b72cd7b28e3",
   "metadata": {},
   "outputs": [
    {
     "data": {
      "text/plain": [
       "\"window function works on performing the commanded opertion on the desired row with a commanded range or window.\\ntypes of window function are: Rolling function, Expanding function, and EWMA(Exponenrtially weighted moving average')\""
      ]
     },
     "execution_count": 95,
     "metadata": {},
     "output_type": "execute_result"
    }
   ],
   "source": [
    "'''window function works on performing the commanded opertion on the desired row with a commanded range or window.\n",
    "types of window function are: Rolling function, Expanding function, and EWMA(Exponenrtially weighted moving average')'''"
   ]
  },
  {
   "cell_type": "code",
   "execution_count": 96,
   "id": "8e0d17cd-a36e-481e-90f8-8a50d18e18fb",
   "metadata": {},
   "outputs": [
    {
     "data": {
      "text/plain": [
       "'Q7. Write a code to print only the current month and year at the time of answering this question.'"
      ]
     },
     "execution_count": 96,
     "metadata": {},
     "output_type": "execute_result"
    }
   ],
   "source": [
    "'''Q7. Write a code to print only the current month and year at the time of answering this question.'''"
   ]
  },
  {
   "cell_type": "code",
   "execution_count": 97,
   "id": "ed2cad3a-858b-42e4-b5cb-79d15e7d8a13",
   "metadata": {},
   "outputs": [],
   "source": [
    "from datetime import datetime\n",
    "time=datetime.now()"
   ]
  },
  {
   "cell_type": "code",
   "execution_count": 98,
   "id": "79d48267-8c29-444b-abe0-8edd772b5ae3",
   "metadata": {},
   "outputs": [],
   "source": [
    "time_year=time.year\n"
   ]
  },
  {
   "cell_type": "code",
   "execution_count": 99,
   "id": "360dc8ef-bf12-467d-aede-94605763fe62",
   "metadata": {},
   "outputs": [],
   "source": [
    "time_month=time.month"
   ]
  },
  {
   "cell_type": "code",
   "execution_count": 100,
   "id": "a2b29e41-6ea9-4d33-b32b-6a7098bc7a9e",
   "metadata": {},
   "outputs": [
    {
     "name": "stdout",
     "output_type": "stream",
     "text": [
      "Year at the time of answering this question: 2023 Month at the time of answering this question: 11\n"
     ]
    }
   ],
   "source": [
    "print(f\"Year at the time of answering this question:\", time_year, \"Month at the time of answering this question:\", time_month)"
   ]
  },
  {
   "cell_type": "code",
   "execution_count": 101,
   "id": "e819f146-d4fd-425d-8e28-45300f106c5c",
   "metadata": {},
   "outputs": [
    {
     "data": {
      "text/plain": [
       "'Q8. Write a Python program that takes in two dates as input (in the format YYYY-MM-DD) and\\ncalculates the difference between them in days, hours, and minutes using Pandas time delta. The\\nprogram should prompt the user to enter the dates and display the result.'"
      ]
     },
     "execution_count": 101,
     "metadata": {},
     "output_type": "execute_result"
    }
   ],
   "source": [
    "'''Q8. Write a Python program that takes in two dates as input (in the format YYYY-MM-DD) and\n",
    "calculates the difference between them in days, hours, and minutes using Pandas time delta. The\n",
    "program should prompt the user to enter the dates and display the result.'''"
   ]
  },
  {
   "cell_type": "code",
   "execution_count": 105,
   "id": "b2206688-0424-4af9-a621-f292cce7dfd0",
   "metadata": {},
   "outputs": [],
   "source": [
    "def input_date(date1, date2) :\n",
    "    try :\n",
    "        date_diff=abs(date1-date2)\n",
    "        return date_diff\n",
    "    except ValueError :\n",
    "        return \"Kindly enter the date 1 and date2 in YYY-MM-DD format\"\n",
    "        "
   ]
  },
  {
   "cell_type": "code",
   "execution_count": 106,
   "id": "56691308-9586-4849-8d90-d84c5888a7ba",
   "metadata": {},
   "outputs": [
    {
     "name": "stdin",
     "output_type": "stream",
     "text": [
      "Enter the 1st date in YYYY-MM-DD format 2023-04-23\n",
      "Enter the 1st date in YYYY-MM-DD format 2022-07-22\n"
     ]
    },
    {
     "data": {
      "text/plain": [
       "Timedelta('275 days 00:00:00')"
      ]
     },
     "execution_count": 106,
     "metadata": {},
     "output_type": "execute_result"
    }
   ],
   "source": [
    "date1=pd.to_datetime(input(\"Enter the 1st date in YYYY-MM-DD format\"))\n",
    "date2=pd.to_datetime(input(\"Enter the 1st date in YYYY-MM-DD format\"))\n",
    "input_date(date1,date2)"
   ]
  },
  {
   "cell_type": "code",
   "execution_count": 107,
   "id": "1d171018-ad48-447c-afbe-85c7ff349a20",
   "metadata": {},
   "outputs": [
    {
     "data": {
      "text/plain": [
       "'Q9. Write a Python program that reads a CSV file containing categorical data and converts a specified\\ncolumn to a categorical data type. The program should prompt the user to enter the file path, column\\nname, and category order, and then display the sorted data.'"
      ]
     },
     "execution_count": 107,
     "metadata": {},
     "output_type": "execute_result"
    }
   ],
   "source": [
    "'''Q9. Write a Python program that reads a CSV file containing categorical data and converts a specified\n",
    "column to a categorical data type. The program should prompt the user to enter the file path, column\n",
    "name, and category order, and then display the sorted data.'''"
   ]
  },
  {
   "cell_type": "code",
   "execution_count": 20,
   "id": "11ddfb9a-7d53-41df-8e19-784cbb840c64",
   "metadata": {},
   "outputs": [],
   "source": [
    "import pandas as pd\n",
    "def categorical_data():\n",
    "   \n",
    "    file_path = input(\"Enter the file path for the CSV file: \")\n",
    "    column_name = input(\"Enter the column name to convert to categorical data type: \")\n",
    "    categories = input(\"Enter the category order : \").split(',')\n",
    "\n",
    "    \n",
    "    try:\n",
    "        data = pd.read_csv(file_path)\n",
    "    except FileNotFoundError:\n",
    "        print(\"File not found. Please enter a valid file path.\")\n",
    "        return\n",
    "\n",
    "  \n",
    "    data[column_name] = pd.Categorical(data[column_name], categories=categories, ordered=True)\n",
    "\n",
    "   \n",
    "    sorted_data = data.sort_values(by=column_name)\n",
    "    print(\"\\nSorted Data:\")\n",
    "    print(sorted_data)\n",
    "\n"
   ]
  },
  {
   "cell_type": "code",
   "execution_count": 9,
   "id": "4077a278-fc87-4eba-9b7c-b9552a4d24ba",
   "metadata": {},
   "outputs": [],
   "source": [
    "d2=pd.read_csv(\"https://media.githubusercontent.com/media/datablist/sample-csv-files/main/files/people/people-100.csv\")"
   ]
  },
  {
   "cell_type": "code",
   "execution_count": 12,
   "id": "0aace742-d4f0-4e63-bdd1-e003c529c0bd",
   "metadata": {},
   "outputs": [
    {
     "data": {
      "text/plain": [
       "'Q10. Write a Python program that reads a CSV file containing sales data for different products and\\nvisualizes the data using a stacked bar chart to show the sales of each product category over time. The\\nprogram should prompt the user to enter the file path and display the chart.'"
      ]
     },
     "execution_count": 12,
     "metadata": {},
     "output_type": "execute_result"
    }
   ],
   "source": [
    "'''Q10. Write a Python program that reads a CSV file containing sales data for different products and\n",
    "visualizes the data using a stacked bar chart to show the sales of each product category over time. The\n",
    "program should prompt the user to enter the file path and display the chart.'''"
   ]
  },
  {
   "cell_type": "code",
   "execution_count": 13,
   "id": "d5fc3e4f-933e-45ff-86f4-4513842e4129",
   "metadata": {},
   "outputs": [
    {
     "name": "stdout",
     "output_type": "stream",
     "text": [
      "Requirement already satisfied: pandas in /opt/conda/lib/python3.10/site-packages (1.5.2)\n",
      "Requirement already satisfied: matplotlib in /opt/conda/lib/python3.10/site-packages (3.6.2)\n",
      "Requirement already satisfied: python-dateutil>=2.8.1 in /opt/conda/lib/python3.10/site-packages (from pandas) (2.8.2)\n",
      "Requirement already satisfied: pytz>=2020.1 in /opt/conda/lib/python3.10/site-packages (from pandas) (2022.6)\n",
      "Requirement already satisfied: numpy>=1.21.0 in /opt/conda/lib/python3.10/site-packages (from pandas) (1.23.5)\n",
      "Requirement already satisfied: contourpy>=1.0.1 in /opt/conda/lib/python3.10/site-packages (from matplotlib) (1.0.6)\n",
      "Requirement already satisfied: pillow>=6.2.0 in /opt/conda/lib/python3.10/site-packages (from matplotlib) (9.2.0)\n",
      "Requirement already satisfied: pyparsing>=2.2.1 in /opt/conda/lib/python3.10/site-packages (from matplotlib) (3.0.9)\n",
      "Requirement already satisfied: fonttools>=4.22.0 in /opt/conda/lib/python3.10/site-packages (from matplotlib) (4.38.0)\n",
      "Requirement already satisfied: kiwisolver>=1.0.1 in /opt/conda/lib/python3.10/site-packages (from matplotlib) (1.4.4)\n",
      "Requirement already satisfied: cycler>=0.10 in /opt/conda/lib/python3.10/site-packages (from matplotlib) (0.11.0)\n",
      "Requirement already satisfied: packaging>=20.0 in /opt/conda/lib/python3.10/site-packages (from matplotlib) (22.0)\n",
      "Requirement already satisfied: six>=1.5 in /opt/conda/lib/python3.10/site-packages (from python-dateutil>=2.8.1->pandas) (1.16.0)\n",
      "Note: you may need to restart the kernel to use updated packages.\n"
     ]
    }
   ],
   "source": [
    "pip install pandas matplotlib"
   ]
  },
  {
   "cell_type": "code",
   "execution_count": 14,
   "id": "0db81e01-0ec7-4f05-9dd4-51463889ac3a",
   "metadata": {},
   "outputs": [
    {
     "name": "stdin",
     "output_type": "stream",
     "text": [
      "Enter the file path for the CSV file:  hhh\n"
     ]
    },
    {
     "name": "stdout",
     "output_type": "stream",
     "text": [
      "File not found. Please enter a valid file path.\n"
     ]
    }
   ],
   "source": [
    "import pandas as pd\n",
    "import matplotlib.pyplot as plt\n",
    "\n",
    "\n",
    "def visualize_sales_data():\n",
    "    # Prompt user for file path\n",
    "    file_path = input(\"Enter the file path for the CSV file: \")\n",
    "\n",
    "    # Read CSV file\n",
    "    try:\n",
    "        data = pd.read_csv(file_path)\n",
    "    except FileNotFoundError:\n",
    "        print(\"File not found. Please enter a valid file path.\")\n",
    "        return\n",
    "\n",
    "  \n",
    "    if 'Date' in data.columns:\n",
    "        data['Date'] = pd.to_datetime(data['Date'])\n",
    "        data.set_index('Date', inplace=True)\n",
    "\n",
    "    \n",
    "    plt.figure(figsize=(10, 6))\n",
    "    data.plot(kind='bar', stacked=True)\n",
    "    plt.title('Sales of Each Product Category Over Time')\n",
    "    plt.xlabel('Time')\n",
    "    plt.ylabel('Sales')\n",
    "    plt.legend(title='Product Categories')\n",
    "    plt.tight_layout()\n",
    "    plt.show()\n",
    "\n",
    "\n",
    "visualize_sales_data()"
   ]
  },
  {
   "cell_type": "code",
   "execution_count": 15,
   "id": "a0676a0a-edb2-4366-a1fe-3aa810c836de",
   "metadata": {},
   "outputs": [
    {
     "data": {
      "text/plain": [
       "'Q11. You are given a CSV file containing student data that includes the student ID and their test score. Write\\na Python program that reads the CSV file, calculates the mean, median, and mode of the test scores, and\\ndisplays the results in a table.'"
      ]
     },
     "execution_count": 15,
     "metadata": {},
     "output_type": "execute_result"
    }
   ],
   "source": [
    "'''Q11. You are given a CSV file containing student data that includes the student ID and their test score. Write\n",
    "a Python program that reads the CSV file, calculates the mean, median, and mode of the test scores, and\n",
    "displays the results in a table.'''"
   ]
  },
  {
   "cell_type": "code",
   "execution_count": 18,
   "id": "3f2b1851-8dee-4a61-a146-cbef0a3b1b77",
   "metadata": {},
   "outputs": [],
   "source": [
    "# assuming that we have the required file\n",
    "def calculate_data(n):\n",
    "    # Read CSV file into a DataFrame\n",
    "    try:\n",
    "        n= pd.read_csv(n)\n",
    "    except FileNotFoundError:\n",
    "        print(\"File not found. Please enter a valid file path.\")\n",
    "        return\n",
    "\n",
    "    \n",
    "    mean_scorecard = n['Test Score'].mean()\n",
    "    median_scorecard =n['Test Score'].median()\n",
    "    mode_scorecard = n['Test Score'].mode()\n",
    "\n",
    "    data_table = pd.DataFrame({\n",
    "        'Statistic': ['Mean', 'Median', 'Mode'],\n",
    "        'Test Score': [mean_scorecard, median_scorecard, mode_scorecard]\n",
    "    })\n",
    "\n",
    "    print(f\"Statistics of Test Scores:\",data_table)\n",
    "    \n",
    "\n",
    "\n",
    "file_path = 'path_to_your_file.csv' \n",
    "\n"
   ]
  },
  {
   "cell_type": "code",
   "execution_count": null,
   "id": "8deed9e5-6986-4c04-90bd-dc127ffd9dd6",
   "metadata": {},
   "outputs": [],
   "source": []
  }
 ],
 "metadata": {
  "kernelspec": {
   "display_name": "Python 3 (ipykernel)",
   "language": "python",
   "name": "python3"
  },
  "language_info": {
   "codemirror_mode": {
    "name": "ipython",
    "version": 3
   },
   "file_extension": ".py",
   "mimetype": "text/x-python",
   "name": "python",
   "nbconvert_exporter": "python",
   "pygments_lexer": "ipython3",
   "version": "3.10.8"
  }
 },
 "nbformat": 4,
 "nbformat_minor": 5
}

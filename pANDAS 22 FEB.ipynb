{
 "cells": [
  {
   "cell_type": "code",
   "execution_count": 1,
   "id": "6e1fa4e0-1a81-40cc-a067-2229d762f23e",
   "metadata": {},
   "outputs": [
    {
     "name": "stdout",
     "output_type": "stream",
     "text": [
      "Requirement already satisfied: pandas in /opt/conda/lib/python3.10/site-packages (1.5.2)\n",
      "Requirement already satisfied: python-dateutil>=2.8.1 in /opt/conda/lib/python3.10/site-packages (from pandas) (2.8.2)\n",
      "Requirement already satisfied: pytz>=2020.1 in /opt/conda/lib/python3.10/site-packages (from pandas) (2022.6)\n",
      "Requirement already satisfied: numpy>=1.21.0 in /opt/conda/lib/python3.10/site-packages (from pandas) (1.23.5)\n",
      "Requirement already satisfied: six>=1.5 in /opt/conda/lib/python3.10/site-packages (from python-dateutil>=2.8.1->pandas) (1.16.0)\n",
      "Note: you may need to restart the kernel to use updated packages.\n"
     ]
    }
   ],
   "source": [
    "pip install pandas"
   ]
  },
  {
   "cell_type": "code",
   "execution_count": 4,
   "id": "aad0e824-496f-41e2-bf25-eba12f962889",
   "metadata": {},
   "outputs": [
    {
     "data": {
      "text/plain": [
       "'Q1. Create a Pandas Series that contains the following data: 4, 8, 15, 16, 23, and 42. Then, print the series.'"
      ]
     },
     "execution_count": 4,
     "metadata": {},
     "output_type": "execute_result"
    }
   ],
   "source": [
    "import pandas as pd\n",
    "'''Q1. Create a Pandas Series that contains the following data: 4, 8, 15, 16, 23, and 42. Then, print the series.'''"
   ]
  },
  {
   "cell_type": "code",
   "execution_count": 5,
   "id": "da808918-f6b9-4444-b434-55303bb4b210",
   "metadata": {},
   "outputs": [],
   "source": [
    "l=[4, 8, 15, 16, 23,42]"
   ]
  },
  {
   "cell_type": "code",
   "execution_count": 6,
   "id": "a670170b-2662-4cc9-b0dd-e12a9614c35e",
   "metadata": {},
   "outputs": [],
   "source": [
    "l2=pd.Series(l)"
   ]
  },
  {
   "cell_type": "code",
   "execution_count": 7,
   "id": "e88e67a7-5cea-4b8b-bfa5-49e5b018637f",
   "metadata": {},
   "outputs": [
    {
     "name": "stdout",
     "output_type": "stream",
     "text": [
      "0     4\n",
      "1     8\n",
      "2    15\n",
      "3    16\n",
      "4    23\n",
      "5    42\n",
      "dtype: int64\n"
     ]
    }
   ],
   "source": [
    "print(l2)"
   ]
  },
  {
   "cell_type": "code",
   "execution_count": 8,
   "id": "232df775-9ae7-4fec-b3ec-92ab638104b1",
   "metadata": {},
   "outputs": [
    {
     "data": {
      "text/plain": [
       "'Q2. Create a variable of list type containing 10 elements in it, and apply pandas.Series function on the\\nvariable print it.'"
      ]
     },
     "execution_count": 8,
     "metadata": {},
     "output_type": "execute_result"
    }
   ],
   "source": [
    "'''Q2. Create a variable of list type containing 10 elements in it, and apply pandas.Series function on the\n",
    "variable print it.'''"
   ]
  },
  {
   "cell_type": "code",
   "execution_count": 9,
   "id": "24082b8a-a83a-414c-aebc-3eb07e870048",
   "metadata": {},
   "outputs": [],
   "source": [
    "l3=[2,5,9,30,\"nitin\",\"datascience\",\"Pwskills\",34]"
   ]
  },
  {
   "cell_type": "code",
   "execution_count": 10,
   "id": "d5d0a5af-1970-4758-bb40-21ef49c80c98",
   "metadata": {},
   "outputs": [],
   "source": [
    "l4=pd.Series(l3)"
   ]
  },
  {
   "cell_type": "code",
   "execution_count": 11,
   "id": "bb40d23d-cd4c-494c-af9e-e035951a8074",
   "metadata": {},
   "outputs": [
    {
     "name": "stdout",
     "output_type": "stream",
     "text": [
      "0              2\n",
      "1              5\n",
      "2              9\n",
      "3             30\n",
      "4          nitin\n",
      "5    datascience\n",
      "6       Pwskills\n",
      "7             34\n",
      "dtype: object\n"
     ]
    }
   ],
   "source": [
    "print(l4)"
   ]
  },
  {
   "cell_type": "code",
   "execution_count": 14,
   "id": "367f287a-8ff4-49ca-8f1c-b5592440447f",
   "metadata": {},
   "outputs": [
    {
     "data": {
      "text/plain": [
       "'Q3. Create a Pandas DataFrame that contains the following data:\\nName\\nAlice\\nBob\\nClaire Age 25 30 27 Geender Female Male Female'"
      ]
     },
     "execution_count": 14,
     "metadata": {},
     "output_type": "execute_result"
    }
   ],
   "source": [
    "'''Q3. Create a Pandas DataFrame that contains the following data:\n",
    "Name\n",
    "Alice\n",
    "Bob\n",
    "Claire Age 25 30 27 Geender Female Male Female'''"
   ]
  },
  {
   "cell_type": "code",
   "execution_count": 18,
   "id": "b70b2a56-90d5-443c-aced-b1c7b3378815",
   "metadata": {},
   "outputs": [],
   "source": [
    "nitin={'Name':['Alice','Bob','Claire'],'Age':[25,3, 27],'Gender':['Female','Male','Female']}"
   ]
  },
  {
   "cell_type": "code",
   "execution_count": 19,
   "id": "8293c1a4-9d8b-4642-b1ce-a1d354003379",
   "metadata": {},
   "outputs": [],
   "source": [
    "nitin2=pd.DataFrame(nitin)"
   ]
  },
  {
   "cell_type": "code",
   "execution_count": 20,
   "id": "14863beb-6ac7-417f-875a-a7692295378e",
   "metadata": {},
   "outputs": [
    {
     "name": "stdout",
     "output_type": "stream",
     "text": [
      "     Name  Age  Gender\n",
      "0   Alice   25  Female\n",
      "1     Bob    3    Male\n",
      "2  Claire   27  Female\n"
     ]
    }
   ],
   "source": [
    "print(nitin2)"
   ]
  },
  {
   "cell_type": "code",
   "execution_count": 21,
   "id": "5d93f16d-8c25-4cc1-befa-4823d57c2540",
   "metadata": {},
   "outputs": [
    {
     "data": {
      "text/plain": [
       "'Q4. What is ‘DataFrame’ in pandas and how is it different from pandas.series? Explain with an example.'"
      ]
     },
     "execution_count": 21,
     "metadata": {},
     "output_type": "execute_result"
    }
   ],
   "source": [
    "'''Q4. What is ‘DataFrame’ in pandas and how is it different from pandas.series? Explain with an example.'''"
   ]
  },
  {
   "cell_type": "code",
   "execution_count": 22,
   "id": "c9108de4-f57e-43e8-a8a1-b3f95f07c8a8",
   "metadata": {},
   "outputs": [
    {
     "data": {
      "text/plain": [
       "'DataFrame in pandas takes multiple table as data and data intake is usully of dictionary\\nformat where its key is coulums and value as rows. the data type of the dictionary can be \\nof any type.Wheras in series the data is one single one dimensional array> The data in series\\ncan also be of any type'"
      ]
     },
     "execution_count": 22,
     "metadata": {},
     "output_type": "execute_result"
    }
   ],
   "source": [
    "'''DataFrame in pandas takes multiple table as data and data intake is usully of dictionary\n",
    "format where its key is coulums and value as rows. the data type of the dictionary can be \n",
    "of any type.Wheras in series the data is one single one dimensional array> The data in series\n",
    "can also be of any type'''"
   ]
  },
  {
   "cell_type": "code",
   "execution_count": 24,
   "id": "e321bdc6-cc20-4817-a77d-69bdab1c62ea",
   "metadata": {},
   "outputs": [],
   "source": [
    "l3=[23,'nitin',34,45,41]"
   ]
  },
  {
   "cell_type": "code",
   "execution_count": 25,
   "id": "b59eae9f-d190-4aa8-bfd2-e47db6c9944c",
   "metadata": {},
   "outputs": [],
   "source": [
    "l4=pd.Series(l3)"
   ]
  },
  {
   "cell_type": "code",
   "execution_count": 26,
   "id": "18b0afb3-cb6f-4aac-a289-4107af6198b5",
   "metadata": {},
   "outputs": [
    {
     "name": "stdout",
     "output_type": "stream",
     "text": [
      "0       23\n",
      "1    nitin\n",
      "2       34\n",
      "3       45\n",
      "4       41\n",
      "dtype: object\n"
     ]
    }
   ],
   "source": [
    "print(l4)"
   ]
  },
  {
   "cell_type": "code",
   "execution_count": 30,
   "id": "a35103a2-0f8a-47f1-8273-e24f166715a7",
   "metadata": {},
   "outputs": [],
   "source": [
    "l5={'Name':['Pwskills','Datascience', 'webdev'],'Assignment':['powerBi','c++','python'], 'Fees':[3500,5000,20000]}"
   ]
  },
  {
   "cell_type": "code",
   "execution_count": 31,
   "id": "1b29c284-0196-49fb-ab88-bf8da0c5710e",
   "metadata": {},
   "outputs": [],
   "source": [
    "l6=pd.DataFrame(l5)"
   ]
  },
  {
   "cell_type": "code",
   "execution_count": 32,
   "id": "eaf13345-2ce8-4f99-802b-6fe55477acc8",
   "metadata": {},
   "outputs": [
    {
     "name": "stdout",
     "output_type": "stream",
     "text": [
      "          Name Assignment   Fees\n",
      "0     Pwskills    powerBi   3500\n",
      "1  Datascience        c++   5000\n",
      "2       webdev     python  20000\n"
     ]
    }
   ],
   "source": [
    "print(l6)"
   ]
  },
  {
   "cell_type": "code",
   "execution_count": 33,
   "id": "f01d3105-f602-4ec9-9d0d-1a41c9ee16b0",
   "metadata": {},
   "outputs": [
    {
     "data": {
      "text/plain": [
       "'Q5. What are some common functions you can use to manipulate data in a Pandas DataFrame? Can\\nyou give an example of when you might use one of these functions?'"
      ]
     },
     "execution_count": 33,
     "metadata": {},
     "output_type": "execute_result"
    }
   ],
   "source": [
    "'''Q5. What are some common functions you can use to manipulate data in a Pandas DataFrame? Can\n",
    "you give an example of when you might use one of these functions?'''"
   ]
  },
  {
   "cell_type": "code",
   "execution_count": 34,
   "id": "1647f6dd-8b46-4563-842e-9034da0799be",
   "metadata": {},
   "outputs": [
    {
     "data": {
      "text/plain": [
       "'Some common function that can be used in python o manupulate data are '"
      ]
     },
     "execution_count": 34,
     "metadata": {},
     "output_type": "execute_result"
    }
   ],
   "source": [
    "'''Some common function that can be used in python o manupulate data are '''"
   ]
  },
  {
   "cell_type": "code",
   "execution_count": 46,
   "id": "38cc85bc-740f-4b16-9ec7-8dcf0189ba6a",
   "metadata": {},
   "outputs": [
    {
     "data": {
      "text/plain": [
       "'There are abundance of operation which can be performed in datarame some prominet function are'"
      ]
     },
     "execution_count": 46,
     "metadata": {},
     "output_type": "execute_result"
    }
   ],
   "source": [
    "'''There are abundance of operation which can be performed in datarame some prominet function are'''"
   ]
  },
  {
   "cell_type": "code",
   "execution_count": 49,
   "id": "c34d6c06-4ede-440c-ab29-143fa3c1bd5a",
   "metadata": {},
   "outputs": [],
   "source": [
    "import seaborn as sns"
   ]
  },
  {
   "cell_type": "code",
   "execution_count": 50,
   "id": "6ea29cc6-50d1-42d9-8b61-3c213ea0b404",
   "metadata": {},
   "outputs": [],
   "source": [
    "iris = pd.read_csv('https://raw.githubusercontent.com/mwaskom/seaborn-data/master/iris.csv')"
   ]
  },
  {
   "cell_type": "code",
   "execution_count": 52,
   "id": "497cc973-bbb6-437c-b8d6-c0a589f4af0d",
   "metadata": {},
   "outputs": [
    {
     "data": {
      "text/html": [
       "<div>\n",
       "<style scoped>\n",
       "    .dataframe tbody tr th:only-of-type {\n",
       "        vertical-align: middle;\n",
       "    }\n",
       "\n",
       "    .dataframe tbody tr th {\n",
       "        vertical-align: top;\n",
       "    }\n",
       "\n",
       "    .dataframe thead th {\n",
       "        text-align: right;\n",
       "    }\n",
       "</style>\n",
       "<table border=\"1\" class=\"dataframe\">\n",
       "  <thead>\n",
       "    <tr style=\"text-align: right;\">\n",
       "      <th></th>\n",
       "      <th>sepal_length</th>\n",
       "      <th>sepal_width</th>\n",
       "      <th>petal_length</th>\n",
       "      <th>petal_width</th>\n",
       "      <th>species</th>\n",
       "    </tr>\n",
       "  </thead>\n",
       "  <tbody>\n",
       "    <tr>\n",
       "      <th>0</th>\n",
       "      <td>5.1</td>\n",
       "      <td>3.5</td>\n",
       "      <td>1.4</td>\n",
       "      <td>0.2</td>\n",
       "      <td>setosa</td>\n",
       "    </tr>\n",
       "    <tr>\n",
       "      <th>1</th>\n",
       "      <td>4.9</td>\n",
       "      <td>3.0</td>\n",
       "      <td>1.4</td>\n",
       "      <td>0.2</td>\n",
       "      <td>setosa</td>\n",
       "    </tr>\n",
       "    <tr>\n",
       "      <th>2</th>\n",
       "      <td>4.7</td>\n",
       "      <td>3.2</td>\n",
       "      <td>1.3</td>\n",
       "      <td>0.2</td>\n",
       "      <td>setosa</td>\n",
       "    </tr>\n",
       "    <tr>\n",
       "      <th>3</th>\n",
       "      <td>4.6</td>\n",
       "      <td>3.1</td>\n",
       "      <td>1.5</td>\n",
       "      <td>0.2</td>\n",
       "      <td>setosa</td>\n",
       "    </tr>\n",
       "    <tr>\n",
       "      <th>4</th>\n",
       "      <td>5.0</td>\n",
       "      <td>3.6</td>\n",
       "      <td>1.4</td>\n",
       "      <td>0.2</td>\n",
       "      <td>setosa</td>\n",
       "    </tr>\n",
       "  </tbody>\n",
       "</table>\n",
       "</div>"
      ],
      "text/plain": [
       "   sepal_length  sepal_width  petal_length  petal_width species\n",
       "0           5.1          3.5           1.4          0.2  setosa\n",
       "1           4.9          3.0           1.4          0.2  setosa\n",
       "2           4.7          3.2           1.3          0.2  setosa\n",
       "3           4.6          3.1           1.5          0.2  setosa\n",
       "4           5.0          3.6           1.4          0.2  setosa"
      ]
     },
     "execution_count": 52,
     "metadata": {},
     "output_type": "execute_result"
    }
   ],
   "source": [
    "iris.head() #it gives the first five data set of the DataFrme"
   ]
  },
  {
   "cell_type": "code",
   "execution_count": 53,
   "id": "0b83d828-d431-4e2a-910a-790030c19cc7",
   "metadata": {},
   "outputs": [
    {
     "data": {
      "text/html": [
       "<div>\n",
       "<style scoped>\n",
       "    .dataframe tbody tr th:only-of-type {\n",
       "        vertical-align: middle;\n",
       "    }\n",
       "\n",
       "    .dataframe tbody tr th {\n",
       "        vertical-align: top;\n",
       "    }\n",
       "\n",
       "    .dataframe thead th {\n",
       "        text-align: right;\n",
       "    }\n",
       "</style>\n",
       "<table border=\"1\" class=\"dataframe\">\n",
       "  <thead>\n",
       "    <tr style=\"text-align: right;\">\n",
       "      <th></th>\n",
       "      <th>sepal_length</th>\n",
       "      <th>sepal_width</th>\n",
       "      <th>petal_length</th>\n",
       "      <th>petal_width</th>\n",
       "    </tr>\n",
       "  </thead>\n",
       "  <tbody>\n",
       "    <tr>\n",
       "      <th>count</th>\n",
       "      <td>150.000000</td>\n",
       "      <td>150.000000</td>\n",
       "      <td>150.000000</td>\n",
       "      <td>150.000000</td>\n",
       "    </tr>\n",
       "    <tr>\n",
       "      <th>mean</th>\n",
       "      <td>5.843333</td>\n",
       "      <td>3.057333</td>\n",
       "      <td>3.758000</td>\n",
       "      <td>1.199333</td>\n",
       "    </tr>\n",
       "    <tr>\n",
       "      <th>std</th>\n",
       "      <td>0.828066</td>\n",
       "      <td>0.435866</td>\n",
       "      <td>1.765298</td>\n",
       "      <td>0.762238</td>\n",
       "    </tr>\n",
       "    <tr>\n",
       "      <th>min</th>\n",
       "      <td>4.300000</td>\n",
       "      <td>2.000000</td>\n",
       "      <td>1.000000</td>\n",
       "      <td>0.100000</td>\n",
       "    </tr>\n",
       "    <tr>\n",
       "      <th>25%</th>\n",
       "      <td>5.100000</td>\n",
       "      <td>2.800000</td>\n",
       "      <td>1.600000</td>\n",
       "      <td>0.300000</td>\n",
       "    </tr>\n",
       "    <tr>\n",
       "      <th>50%</th>\n",
       "      <td>5.800000</td>\n",
       "      <td>3.000000</td>\n",
       "      <td>4.350000</td>\n",
       "      <td>1.300000</td>\n",
       "    </tr>\n",
       "    <tr>\n",
       "      <th>75%</th>\n",
       "      <td>6.400000</td>\n",
       "      <td>3.300000</td>\n",
       "      <td>5.100000</td>\n",
       "      <td>1.800000</td>\n",
       "    </tr>\n",
       "    <tr>\n",
       "      <th>max</th>\n",
       "      <td>7.900000</td>\n",
       "      <td>4.400000</td>\n",
       "      <td>6.900000</td>\n",
       "      <td>2.500000</td>\n",
       "    </tr>\n",
       "  </tbody>\n",
       "</table>\n",
       "</div>"
      ],
      "text/plain": [
       "       sepal_length  sepal_width  petal_length  petal_width\n",
       "count    150.000000   150.000000    150.000000   150.000000\n",
       "mean       5.843333     3.057333      3.758000     1.199333\n",
       "std        0.828066     0.435866      1.765298     0.762238\n",
       "min        4.300000     2.000000      1.000000     0.100000\n",
       "25%        5.100000     2.800000      1.600000     0.300000\n",
       "50%        5.800000     3.000000      4.350000     1.300000\n",
       "75%        6.400000     3.300000      5.100000     1.800000\n",
       "max        7.900000     4.400000      6.900000     2.500000"
      ]
     },
     "execution_count": 53,
     "metadata": {},
     "output_type": "execute_result"
    }
   ],
   "source": [
    "iris.describe() #It gives sort of statistical analysis of the file whhich is associated with numbers"
   ]
  },
  {
   "cell_type": "code",
   "execution_count": 54,
   "id": "5a4e08d4-b95b-4168-8f97-b04bf5baa961",
   "metadata": {},
   "outputs": [
    {
     "data": {
      "text/html": [
       "<div>\n",
       "<style scoped>\n",
       "    .dataframe tbody tr th:only-of-type {\n",
       "        vertical-align: middle;\n",
       "    }\n",
       "\n",
       "    .dataframe tbody tr th {\n",
       "        vertical-align: top;\n",
       "    }\n",
       "\n",
       "    .dataframe thead th {\n",
       "        text-align: right;\n",
       "    }\n",
       "</style>\n",
       "<table border=\"1\" class=\"dataframe\">\n",
       "  <thead>\n",
       "    <tr style=\"text-align: right;\">\n",
       "      <th></th>\n",
       "      <th>sepal_length</th>\n",
       "      <th>sepal_width</th>\n",
       "      <th>petal_length</th>\n",
       "      <th>petal_width</th>\n",
       "      <th>species</th>\n",
       "    </tr>\n",
       "  </thead>\n",
       "  <tbody>\n",
       "    <tr>\n",
       "      <th>0</th>\n",
       "      <td>5.1</td>\n",
       "      <td>3.5</td>\n",
       "      <td>1.4</td>\n",
       "      <td>0.2</td>\n",
       "      <td>setosa</td>\n",
       "    </tr>\n",
       "    <tr>\n",
       "      <th>1</th>\n",
       "      <td>4.9</td>\n",
       "      <td>3.0</td>\n",
       "      <td>1.4</td>\n",
       "      <td>0.2</td>\n",
       "      <td>setosa</td>\n",
       "    </tr>\n",
       "    <tr>\n",
       "      <th>2</th>\n",
       "      <td>4.7</td>\n",
       "      <td>3.2</td>\n",
       "      <td>1.3</td>\n",
       "      <td>0.2</td>\n",
       "      <td>setosa</td>\n",
       "    </tr>\n",
       "  </tbody>\n",
       "</table>\n",
       "</div>"
      ],
      "text/plain": [
       "   sepal_length  sepal_width  petal_length  petal_width species\n",
       "0           5.1          3.5           1.4          0.2  setosa\n",
       "1           4.9          3.0           1.4          0.2  setosa\n",
       "2           4.7          3.2           1.3          0.2  setosa"
      ]
     },
     "execution_count": 54,
     "metadata": {},
     "output_type": "execute_result"
    }
   ],
   "source": [
    "iris.head(3) #head and tail functiom the first five and last five data of the file \n",
    "            #but filling the number wihin 5 we can get the desireable data list within top and lst 5 dataset"
   ]
  },
  {
   "cell_type": "code",
   "execution_count": 56,
   "id": "22460906-94bd-40ea-8726-fc038415bcae",
   "metadata": {},
   "outputs": [
    {
     "data": {
      "text/plain": [
       "0      3.5\n",
       "1      3.0\n",
       "2      3.2\n",
       "3      3.1\n",
       "4      3.6\n",
       "      ... \n",
       "145    3.0\n",
       "146    2.5\n",
       "147    3.0\n",
       "148    3.4\n",
       "149    3.0\n",
       "Name: sepal_width, Length: 150, dtype: float64"
      ]
     },
     "execution_count": 56,
     "metadata": {},
     "output_type": "execute_result"
    }
   ],
   "source": [
    "iris['sepal_width'] #We can get the data of desirable column"
   ]
  },
  {
   "cell_type": "code",
   "execution_count": 57,
   "id": "21d0bde9-b452-4594-bfb9-0c69545b1971",
   "metadata": {},
   "outputs": [
    {
     "data": {
      "text/html": [
       "<div>\n",
       "<style scoped>\n",
       "    .dataframe tbody tr th:only-of-type {\n",
       "        vertical-align: middle;\n",
       "    }\n",
       "\n",
       "    .dataframe tbody tr th {\n",
       "        vertical-align: top;\n",
       "    }\n",
       "\n",
       "    .dataframe thead th {\n",
       "        text-align: right;\n",
       "    }\n",
       "</style>\n",
       "<table border=\"1\" class=\"dataframe\">\n",
       "  <thead>\n",
       "    <tr style=\"text-align: right;\">\n",
       "      <th></th>\n",
       "      <th>sepal_width</th>\n",
       "      <th>petal_length</th>\n",
       "    </tr>\n",
       "  </thead>\n",
       "  <tbody>\n",
       "    <tr>\n",
       "      <th>0</th>\n",
       "      <td>3.5</td>\n",
       "      <td>1.4</td>\n",
       "    </tr>\n",
       "    <tr>\n",
       "      <th>1</th>\n",
       "      <td>3.0</td>\n",
       "      <td>1.4</td>\n",
       "    </tr>\n",
       "    <tr>\n",
       "      <th>2</th>\n",
       "      <td>3.2</td>\n",
       "      <td>1.3</td>\n",
       "    </tr>\n",
       "    <tr>\n",
       "      <th>3</th>\n",
       "      <td>3.1</td>\n",
       "      <td>1.5</td>\n",
       "    </tr>\n",
       "    <tr>\n",
       "      <th>4</th>\n",
       "      <td>3.6</td>\n",
       "      <td>1.4</td>\n",
       "    </tr>\n",
       "    <tr>\n",
       "      <th>...</th>\n",
       "      <td>...</td>\n",
       "      <td>...</td>\n",
       "    </tr>\n",
       "    <tr>\n",
       "      <th>145</th>\n",
       "      <td>3.0</td>\n",
       "      <td>5.2</td>\n",
       "    </tr>\n",
       "    <tr>\n",
       "      <th>146</th>\n",
       "      <td>2.5</td>\n",
       "      <td>5.0</td>\n",
       "    </tr>\n",
       "    <tr>\n",
       "      <th>147</th>\n",
       "      <td>3.0</td>\n",
       "      <td>5.2</td>\n",
       "    </tr>\n",
       "    <tr>\n",
       "      <th>148</th>\n",
       "      <td>3.4</td>\n",
       "      <td>5.4</td>\n",
       "    </tr>\n",
       "    <tr>\n",
       "      <th>149</th>\n",
       "      <td>3.0</td>\n",
       "      <td>5.1</td>\n",
       "    </tr>\n",
       "  </tbody>\n",
       "</table>\n",
       "<p>150 rows × 2 columns</p>\n",
       "</div>"
      ],
      "text/plain": [
       "     sepal_width  petal_length\n",
       "0            3.5           1.4\n",
       "1            3.0           1.4\n",
       "2            3.2           1.3\n",
       "3            3.1           1.5\n",
       "4            3.6           1.4\n",
       "..           ...           ...\n",
       "145          3.0           5.2\n",
       "146          2.5           5.0\n",
       "147          3.0           5.2\n",
       "148          3.4           5.4\n",
       "149          3.0           5.1\n",
       "\n",
       "[150 rows x 2 columns]"
      ]
     },
     "execution_count": 57,
     "metadata": {},
     "output_type": "execute_result"
    }
   ],
   "source": [
    "iris[['sepal_width','petal_length']] #to get the data of multiple column we have to pass it as list"
   ]
  },
  {
   "cell_type": "code",
   "execution_count": 60,
   "id": "8a2dfac3-f2b7-4e74-b928-ebd62d324235",
   "metadata": {},
   "outputs": [
    {
     "data": {
      "text/plain": [
       "0       True\n",
       "1      False\n",
       "2       True\n",
       "3       True\n",
       "4       True\n",
       "       ...  \n",
       "145    False\n",
       "146    False\n",
       "147    False\n",
       "148     True\n",
       "149    False\n",
       "Name: sepal_width, Length: 150, dtype: bool"
      ]
     },
     "execution_count": 60,
     "metadata": {},
     "output_type": "execute_result"
    }
   ],
   "source": [
    "iris['sepal_width']>3.0 #It gives True or False for the sepal width >3.0 \n",
    "                        #to get the data in list formt we have pass it as list below"
   ]
  },
  {
   "cell_type": "code",
   "execution_count": 61,
   "id": "b3b6ae31-1297-4c40-b7eb-1aa56ea4f69b",
   "metadata": {},
   "outputs": [
    {
     "data": {
      "text/html": [
       "<div>\n",
       "<style scoped>\n",
       "    .dataframe tbody tr th:only-of-type {\n",
       "        vertical-align: middle;\n",
       "    }\n",
       "\n",
       "    .dataframe tbody tr th {\n",
       "        vertical-align: top;\n",
       "    }\n",
       "\n",
       "    .dataframe thead th {\n",
       "        text-align: right;\n",
       "    }\n",
       "</style>\n",
       "<table border=\"1\" class=\"dataframe\">\n",
       "  <thead>\n",
       "    <tr style=\"text-align: right;\">\n",
       "      <th></th>\n",
       "      <th>sepal_length</th>\n",
       "      <th>sepal_width</th>\n",
       "      <th>petal_length</th>\n",
       "      <th>petal_width</th>\n",
       "      <th>species</th>\n",
       "    </tr>\n",
       "  </thead>\n",
       "  <tbody>\n",
       "    <tr>\n",
       "      <th>0</th>\n",
       "      <td>5.1</td>\n",
       "      <td>3.5</td>\n",
       "      <td>1.4</td>\n",
       "      <td>0.2</td>\n",
       "      <td>setosa</td>\n",
       "    </tr>\n",
       "    <tr>\n",
       "      <th>2</th>\n",
       "      <td>4.7</td>\n",
       "      <td>3.2</td>\n",
       "      <td>1.3</td>\n",
       "      <td>0.2</td>\n",
       "      <td>setosa</td>\n",
       "    </tr>\n",
       "    <tr>\n",
       "      <th>3</th>\n",
       "      <td>4.6</td>\n",
       "      <td>3.1</td>\n",
       "      <td>1.5</td>\n",
       "      <td>0.2</td>\n",
       "      <td>setosa</td>\n",
       "    </tr>\n",
       "    <tr>\n",
       "      <th>4</th>\n",
       "      <td>5.0</td>\n",
       "      <td>3.6</td>\n",
       "      <td>1.4</td>\n",
       "      <td>0.2</td>\n",
       "      <td>setosa</td>\n",
       "    </tr>\n",
       "    <tr>\n",
       "      <th>5</th>\n",
       "      <td>5.4</td>\n",
       "      <td>3.9</td>\n",
       "      <td>1.7</td>\n",
       "      <td>0.4</td>\n",
       "      <td>setosa</td>\n",
       "    </tr>\n",
       "    <tr>\n",
       "      <th>...</th>\n",
       "      <td>...</td>\n",
       "      <td>...</td>\n",
       "      <td>...</td>\n",
       "      <td>...</td>\n",
       "      <td>...</td>\n",
       "    </tr>\n",
       "    <tr>\n",
       "      <th>140</th>\n",
       "      <td>6.7</td>\n",
       "      <td>3.1</td>\n",
       "      <td>5.6</td>\n",
       "      <td>2.4</td>\n",
       "      <td>virginica</td>\n",
       "    </tr>\n",
       "    <tr>\n",
       "      <th>141</th>\n",
       "      <td>6.9</td>\n",
       "      <td>3.1</td>\n",
       "      <td>5.1</td>\n",
       "      <td>2.3</td>\n",
       "      <td>virginica</td>\n",
       "    </tr>\n",
       "    <tr>\n",
       "      <th>143</th>\n",
       "      <td>6.8</td>\n",
       "      <td>3.2</td>\n",
       "      <td>5.9</td>\n",
       "      <td>2.3</td>\n",
       "      <td>virginica</td>\n",
       "    </tr>\n",
       "    <tr>\n",
       "      <th>144</th>\n",
       "      <td>6.7</td>\n",
       "      <td>3.3</td>\n",
       "      <td>5.7</td>\n",
       "      <td>2.5</td>\n",
       "      <td>virginica</td>\n",
       "    </tr>\n",
       "    <tr>\n",
       "      <th>148</th>\n",
       "      <td>6.2</td>\n",
       "      <td>3.4</td>\n",
       "      <td>5.4</td>\n",
       "      <td>2.3</td>\n",
       "      <td>virginica</td>\n",
       "    </tr>\n",
       "  </tbody>\n",
       "</table>\n",
       "<p>67 rows × 5 columns</p>\n",
       "</div>"
      ],
      "text/plain": [
       "     sepal_length  sepal_width  petal_length  petal_width    species\n",
       "0             5.1          3.5           1.4          0.2     setosa\n",
       "2             4.7          3.2           1.3          0.2     setosa\n",
       "3             4.6          3.1           1.5          0.2     setosa\n",
       "4             5.0          3.6           1.4          0.2     setosa\n",
       "5             5.4          3.9           1.7          0.4     setosa\n",
       "..            ...          ...           ...          ...        ...\n",
       "140           6.7          3.1           5.6          2.4  virginica\n",
       "141           6.9          3.1           5.1          2.3  virginica\n",
       "143           6.8          3.2           5.9          2.3  virginica\n",
       "144           6.7          3.3           5.7          2.5  virginica\n",
       "148           6.2          3.4           5.4          2.3  virginica\n",
       "\n",
       "[67 rows x 5 columns]"
      ]
     },
     "execution_count": 61,
     "metadata": {},
     "output_type": "execute_result"
    }
   ],
   "source": [
    "iris[iris['sepal_width']>3.0]"
   ]
  },
  {
   "cell_type": "code",
   "execution_count": null,
   "id": "407ae8bd-4dd8-49b0-93b8-ac7178f48205",
   "metadata": {},
   "outputs": [],
   "source": [
    "'''we can perform many operation like max,min, sum, concat two data replace coloumn name,\n",
    "add coloumn name, del coloumn name and many more operaions''''"
   ]
  },
  {
   "cell_type": "code",
   "execution_count": 35,
   "id": "717da1db-5e01-461b-a7c5-507d1b2d71be",
   "metadata": {},
   "outputs": [
    {
     "data": {
      "text/plain": [
       "'Q6. Which of the following is mutable in nature Series, DataFrame, Panel?'"
      ]
     },
     "execution_count": 35,
     "metadata": {},
     "output_type": "execute_result"
    }
   ],
   "source": [
    "'''Q6. Which of the following is mutable in nature Series, DataFrame, Panel?'''"
   ]
  },
  {
   "cell_type": "code",
   "execution_count": 36,
   "id": "eb53bd38-e2b8-4ace-9fa4-1b29961d0ac9",
   "metadata": {},
   "outputs": [
    {
     "data": {
      "text/plain": [
       "'Both series and dataframe are mutuable in nature but Panel in not. We can manupulate \\ndata in series and DataFrame of pandas as per our need.Panel is oudated and not updated constanly.'"
      ]
     },
     "execution_count": 36,
     "metadata": {},
     "output_type": "execute_result"
    }
   ],
   "source": [
    "'''Both series and dataframe are mutuable in nature but Panel in not. We can manupulate \n",
    "data in series and DataFrame of pandas as per our need.Panel is oudated and not updated constanly.'''"
   ]
  },
  {
   "cell_type": "code",
   "execution_count": 37,
   "id": "83ba91f8-bafb-4096-acbb-9910ae63f2dd",
   "metadata": {},
   "outputs": [
    {
     "data": {
      "text/plain": [
       "'Q7. Create a DataFrame using multiple Series. Explain with an example.'"
      ]
     },
     "execution_count": 37,
     "metadata": {},
     "output_type": "execute_result"
    }
   ],
   "source": [
    "'''Q7. Create a DataFrame using multiple Series. Explain with an example.'''"
   ]
  },
  {
   "cell_type": "code",
   "execution_count": 41,
   "id": "bba7310e-9e3e-4164-abb9-557fa7f1f58b",
   "metadata": {},
   "outputs": [],
   "source": [
    "l8=pd.Series([3,6,7])#Here two series have been built up into one dataframe"
   ]
  },
  {
   "cell_type": "code",
   "execution_count": 43,
   "id": "d221a120-043a-4e14-9a0b-d7d4e2a8f4e1",
   "metadata": {},
   "outputs": [],
   "source": [
    "l9=pd.Series([4,9,10])"
   ]
  },
  {
   "cell_type": "code",
   "execution_count": 44,
   "id": "3d900051-1cdd-41a8-b601-19eff735fc6c",
   "metadata": {},
   "outputs": [],
   "source": [
    "l10=pd.DataFrame({'series1':l8,'series2':l9})"
   ]
  },
  {
   "cell_type": "code",
   "execution_count": 45,
   "id": "c8b16f22-dab3-46b5-9c1f-7da94adbd19f",
   "metadata": {},
   "outputs": [
    {
     "name": "stdout",
     "output_type": "stream",
     "text": [
      "   series1  series2\n",
      "0        3        4\n",
      "1        6        9\n",
      "2        7       10\n"
     ]
    }
   ],
   "source": [
    "print(l10)"
   ]
  },
  {
   "cell_type": "code",
   "execution_count": null,
   "id": "6fc70f61-f9b1-4f88-9aa8-522a3d8553b0",
   "metadata": {},
   "outputs": [],
   "source": []
  }
 ],
 "metadata": {
  "kernelspec": {
   "display_name": "Python 3 (ipykernel)",
   "language": "python",
   "name": "python3"
  },
  "language_info": {
   "codemirror_mode": {
    "name": "ipython",
    "version": 3
   },
   "file_extension": ".py",
   "mimetype": "text/x-python",
   "name": "python",
   "nbconvert_exporter": "python",
   "pygments_lexer": "ipython3",
   "version": "3.10.8"
  }
 },
 "nbformat": 4,
 "nbformat_minor": 5
}
